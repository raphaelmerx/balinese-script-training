{
 "cells": [
  {
   "cell_type": "code",
   "execution_count": null,
   "id": "dying-yellow",
   "metadata": {},
   "outputs": [],
   "source": [
    "!wget -c https://dumps.wikimedia.org/banwiki/latest/banwiki-latest-pages-articles.xml.bz2"
   ]
  },
  {
   "cell_type": "code",
   "execution_count": null,
   "id": "armed-trust",
   "metadata": {},
   "outputs": [],
   "source": [
    "!bunzip2 banwiki-latest-pages-articles.xml.bz2"
   ]
  },
  {
   "cell_type": "code",
   "execution_count": 19,
   "id": "requested-quarterly",
   "metadata": {},
   "outputs": [
    {
     "name": "stdout",
     "output_type": "stream",
     "text": [
      "INFO: Starting page extraction from banwiki-latest-pages-articles.xml.\n",
      "INFO: Using 7 extract processes.\n",
      "INFO: Finished 7-process extraction of 12744 articles in 3.9s (3245.4 art/s)\n"
     ]
    }
   ],
   "source": [
    "!wikiextractor --no-templates banwiki-latest-pages-articles.xml"
   ]
  },
  {
   "cell_type": "code",
   "execution_count": 41,
   "id": "communist-metallic",
   "metadata": {},
   "outputs": [
    {
     "name": "stdout",
     "output_type": "stream",
     "text": [
      "Total of 62381 lines\n",
      "31029 of which are longer than 30 chars\n"
     ]
    }
   ],
   "source": [
    "# combine all wikipedia data, extracting title and removing </doc tags and empty lines\n",
    "\n",
    "import glob\n",
    "import re\n",
    "\n",
    "all_files = sorted(glob.glob('text/AA/wiki_*'))\n",
    "title_re = re.compile(r'<doc id=\"\\d+\" url=\"https://ban.wikipedia.org/wiki\\?curid=\\d+\" title=\"([^\"]+)\">')\n",
    "doc_re = re.compile(rf'([\\w\\W]*)<\\/doc>')\n",
    "all_lines = []\n",
    "\n",
    "for filename in all_files:\n",
    "    with open(filename) as f:\n",
    "        lines = f.readlines()\n",
    "        for l in lines:\n",
    "            if l.startswith('<doc id=\"'):\n",
    "                title = title_re.findall(l)[0].replace('/','_') + '\\n'\n",
    "                all_lines.append(title)\n",
    "            elif l.startswith('</doc'):\n",
    "                continue\n",
    "            elif l.strip() == all_lines[-1].strip():\n",
    "                continue\n",
    "            elif l.strip() == '':\n",
    "                continue\n",
    "            else:\n",
    "                all_lines.append(l)\n",
    "\n",
    "with open('banwiki.txt', 'w') as f:\n",
    "    f.writelines(all_lines)\n",
    "    \n",
    "print(f'Total of {len(all_lines)} lines')\n",
    "print(f'{len([l for l in all_lines if len(l) > 30])} of which are longer than 30 chars')"
   ]
  }
 ],
 "metadata": {
  "kernelspec": {
   "display_name": "Python 3",
   "language": "python",
   "name": "python3"
  },
  "language_info": {
   "codemirror_mode": {
    "name": "ipython",
    "version": 3
   },
   "file_extension": ".py",
   "mimetype": "text/x-python",
   "name": "python",
   "nbconvert_exporter": "python",
   "pygments_lexer": "ipython3",
   "version": "3.7.9"
  }
 },
 "nbformat": 4,
 "nbformat_minor": 5
}
